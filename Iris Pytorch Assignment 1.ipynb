{
 "cells": [
  {
   "cell_type": "markdown",
   "id": "15f8f35e",
   "metadata": {},
   "source": [
    "# Importing the Packages"
   ]
  },
  {
   "cell_type": "code",
   "execution_count": 1,
   "id": "d8f00c65",
   "metadata": {},
   "outputs": [],
   "source": [
    "import numpy as np\n",
    "import matplotlib.pyplot as plt\n",
    "import seaborn as sns\n",
    "import nltk"
   ]
  },
  {
   "cell_type": "code",
   "execution_count": 5,
   "id": "302b6321",
   "metadata": {},
   "outputs": [],
   "source": [
    "import torch\n",
    "import torch.nn as nn\n",
    "import torch.nn.functional as F"
   ]
  },
  {
   "cell_type": "markdown",
   "id": "e7df64ac",
   "metadata": {},
   "source": [
    "# Loading the iris DataSet"
   ]
  },
  {
   "cell_type": "code",
   "execution_count": 6,
   "id": "d1f29961",
   "metadata": {},
   "outputs": [],
   "source": [
    "from sklearn.datasets import load_iris"
   ]
  },
  {
   "cell_type": "code",
   "execution_count": 7,
   "id": "002c2273",
   "metadata": {},
   "outputs": [],
   "source": [
    "data=load_iris()\n",
    "x=data.data\n",
    "y=data.target"
   ]
  },
  {
   "cell_type": "markdown",
   "id": "2debeb5b",
   "metadata": {},
   "source": [
    "# Spliting the data into train and test components"
   ]
  },
  {
   "cell_type": "code",
   "execution_count": 8,
   "id": "b5ba15d7",
   "metadata": {},
   "outputs": [],
   "source": [
    "from sklearn.model_selection import train_test_split\n",
    "x_train,x_test,y_train,y_test=train_test_split(x,y,test_size=0.3,random_state=100)"
   ]
  },
  {
   "cell_type": "code",
   "execution_count": 9,
   "id": "c1141afa",
   "metadata": {},
   "outputs": [],
   "source": [
    "x_train=torch.FloatTensor(x_train)\n",
    "x_test=torch.FloatTensor(x_test)\n",
    "y_train=torch.LongTensor(y_train)\n",
    "y_test=torch.LongTensor(y_test)"
   ]
  },
  {
   "cell_type": "code",
   "execution_count": null,
   "id": "d2f75c73",
   "metadata": {},
   "outputs": [],
   "source": []
  },
  {
   "cell_type": "code",
   "execution_count": 35,
   "id": "4669ddb3",
   "metadata": {},
   "outputs": [],
   "source": [
    "class Model(nn.Module):\n",
    "    def __init__(self,i=4,h1=10,h2=10,o=3):\n",
    "        super().__init__()\n",
    "        self.fc1=nn.Linear(i,h1)\n",
    "        self.fc2=nn.Linear(h1,h2)\n",
    "        self.fc3=nn.Linear(h2,o)\n",
    "    def forward(self,x):\n",
    "        x=F.relu(self.fc1(x))\n",
    "        x=F.relu(self.fc2(x))\n",
    "        x=self.fc3(x)\n",
    "        return x"
   ]
  },
  {
   "cell_type": "code",
   "execution_count": 36,
   "id": "72a449a7",
   "metadata": {},
   "outputs": [],
   "source": [
    "model=Model()"
   ]
  },
  {
   "cell_type": "markdown",
   "id": "6e92857f",
   "metadata": {},
   "source": [
    "# Initial Weights of the layers"
   ]
  },
  {
   "cell_type": "code",
   "execution_count": 39,
   "id": "9ebdac27",
   "metadata": {},
   "outputs": [
    {
     "data": {
      "text/plain": [
       "Parameter containing:\n",
       "tensor([[ 0.4751,  0.1819,  0.0554, -0.0781],\n",
       "        [ 0.0823, -0.4397, -0.4305,  0.2148],\n",
       "        [ 0.2989, -0.1884, -0.3289, -0.0927],\n",
       "        [-0.0647, -0.4233,  0.3277,  0.2786],\n",
       "        [-0.3267,  0.3730,  0.4878,  0.3764],\n",
       "        [-0.3626, -0.0656,  0.3333, -0.1146],\n",
       "        [-0.0127, -0.4557,  0.0906,  0.1905],\n",
       "        [-0.1638,  0.4546,  0.1952,  0.0957],\n",
       "        [-0.2680,  0.4296, -0.0393,  0.3408],\n",
       "        [ 0.0102,  0.3678,  0.2938,  0.2891]], requires_grad=True)"
      ]
     },
     "execution_count": 39,
     "metadata": {},
     "output_type": "execute_result"
    }
   ],
   "source": [
    "#Initial weights of the 1st layer\n",
    "model.fc1.weight"
   ]
  },
  {
   "cell_type": "code",
   "execution_count": 40,
   "id": "0480155c",
   "metadata": {},
   "outputs": [
    {
     "data": {
      "text/plain": [
       "Parameter containing:\n",
       "tensor([[-0.0572, -0.2374, -0.0758,  0.0020, -0.2781,  0.1502,  0.1479, -0.0301,\n",
       "         -0.2992,  0.2161],\n",
       "        [ 0.2767, -0.0649, -0.0415, -0.2653,  0.0520,  0.1669, -0.1187,  0.2758,\n",
       "          0.2875,  0.2953],\n",
       "        [ 0.1265, -0.1527, -0.2489,  0.0094, -0.1796,  0.0061,  0.1947, -0.1599,\n",
       "         -0.2452, -0.1818],\n",
       "        [ 0.0486, -0.1389, -0.0432,  0.1475,  0.0206, -0.2076,  0.2786, -0.0271,\n",
       "         -0.2301,  0.0106],\n",
       "        [-0.2602, -0.1314,  0.3131,  0.0884,  0.1956,  0.0774,  0.1995, -0.0376,\n",
       "          0.2349, -0.2787],\n",
       "        [ 0.3104, -0.2891, -0.1069, -0.0263,  0.0207, -0.2640,  0.2926,  0.1175,\n",
       "          0.1205,  0.1804],\n",
       "        [ 0.1334, -0.0813, -0.1105, -0.3063,  0.0391,  0.1846, -0.1531,  0.0520,\n",
       "          0.0255,  0.0391],\n",
       "        [-0.2105, -0.1706,  0.1128,  0.1510, -0.0927, -0.0614, -0.1026,  0.0582,\n",
       "         -0.1341,  0.0730],\n",
       "        [-0.0564, -0.1321,  0.1664, -0.2808, -0.1334,  0.1240, -0.0247, -0.2652,\n",
       "          0.2779, -0.2432],\n",
       "        [ 0.1301, -0.1168, -0.1164,  0.1991,  0.0703, -0.1380,  0.2882, -0.0569,\n",
       "         -0.0169,  0.1326]], requires_grad=True)"
      ]
     },
     "execution_count": 40,
     "metadata": {},
     "output_type": "execute_result"
    }
   ],
   "source": [
    "#Initial weights of the 2nd layer\n",
    "model.fc2.weight"
   ]
  },
  {
   "cell_type": "code",
   "execution_count": 41,
   "id": "eda26d0e",
   "metadata": {},
   "outputs": [
    {
     "data": {
      "text/plain": [
       "Parameter containing:\n",
       "tensor([[-0.2326,  0.0322, -0.2748, -0.2364,  0.0412,  0.2771,  0.2369,  0.2585,\n",
       "         -0.3074, -0.0241],\n",
       "        [-0.0538,  0.0791, -0.1729,  0.1442,  0.2842,  0.2335, -0.0678,  0.2838,\n",
       "         -0.1193, -0.2738],\n",
       "        [-0.1969, -0.1833, -0.2312, -0.2437, -0.0297,  0.2339, -0.0737,  0.1737,\n",
       "         -0.2018, -0.2315]], requires_grad=True)"
      ]
     },
     "execution_count": 41,
     "metadata": {},
     "output_type": "execute_result"
    }
   ],
   "source": [
    "#Initial weights of the 3rd layer\n",
    "model.fc3.weight"
   ]
  },
  {
   "cell_type": "code",
   "execution_count": null,
   "id": "86ac5876",
   "metadata": {},
   "outputs": [],
   "source": []
  },
  {
   "cell_type": "code",
   "execution_count": 42,
   "id": "c76dd919",
   "metadata": {},
   "outputs": [],
   "source": [
    "criteria=nn.CrossEntropyLoss()\n",
    "optimizer=torch.optim.Adam(model.parameters(),lr=0.05)"
   ]
  },
  {
   "cell_type": "code",
   "execution_count": 43,
   "id": "222fbe2a",
   "metadata": {},
   "outputs": [],
   "source": [
    "epochs=100\n",
    "losses=[]\n",
    "for i in range(50):\n",
    "    y_pred=model.forward(x_train)\n",
    "    los=criteria(y_pred,y_train)\n",
    "    losses.append(los)\n",
    "    optimizer.zero_grad()\n",
    "    los.backward()\n",
    "    optimizer.step()\n",
    "    "
   ]
  },
  {
   "cell_type": "markdown",
   "id": "2db46728",
   "metadata": {},
   "source": [
    "# Plot showing Loss vs Epochs during Training Process"
   ]
  },
  {
   "cell_type": "code",
   "execution_count": 44,
   "id": "447b2ffa",
   "metadata": {},
   "outputs": [
    {
     "data": {
      "image/png": "[encoded data removed]",
      "text/plain": [
       "<Figure size 432x288 with 1 Axes>"
      ]
     },
     "metadata": {
      "needs_background": "light"
     },
     "output_type": "display_data"
    }
   ],
   "source": [
    "plt.plot(range(50),losses)\n",
    "plt.xlabel('Epochs')\n",
    "plt.ylabel('Losses')\n",
    "plt.show()"
   ]
  },
  {
   "cell_type": "code",
   "execution_count": 45,
   "id": "f1aa7db7",
   "metadata": {},
   "outputs": [
    {
     "name": "stdout",
     "output_type": "stream",
     "text": [
      "45 out of 45 accuracy 100.0\n"
     ]
    }
   ],
   "source": [
    "correct=0\n",
    "with torch.no_grad():\n",
    "    for i,data in enumerate(x_test):\n",
    "        y_pred=model.forward(data)\n",
    "        if np.argmax(y_pred)==y_test[i]:\n",
    "            correct=correct+1\n",
    "print(f'{correct} out of {len(x_test)} accuracy {100*correct/len(x_test)}')\n",
    "    \n",
    "    "
   ]
  },
  {
   "cell_type": "markdown",
   "id": "1251f931",
   "metadata": {},
   "source": [
    "# Weights of the layers adter training the model"
   ]
  },
  {
   "cell_type": "code",
   "execution_count": 46,
   "id": "55151c91",
   "metadata": {},
   "outputs": [
    {
     "data": {
      "text/plain": [
       "Parameter containing:\n",
       "tensor([[ 8.1811e-01,  6.0661e-01,  3.5875e-02, -3.8320e-01],\n",
       "        [ 8.2288e-02, -4.3974e-01, -4.3045e-01,  2.1483e-01],\n",
       "        [ 6.9140e-04, -4.8660e-01, -6.2719e-01, -3.9095e-01],\n",
       "        [ 1.3661e-01, -5.4795e-01,  1.2395e+00,  1.3659e+00],\n",
       "        [-4.8568e-01, -2.2715e-01,  1.0224e+00,  1.1189e+00],\n",
       "        [-3.6256e-01, -6.5598e-02,  3.3328e-01, -1.1457e-01],\n",
       "        [-1.2652e-02, -4.5568e-01,  9.0584e-02,  1.9049e-01],\n",
       "        [-5.3036e-01,  4.0121e-02, -1.3637e-01, -2.4025e-01],\n",
       "        [-5.6624e-01,  1.3130e-01, -3.3756e-01,  4.2584e-02],\n",
       "        [-2.1507e-01, -2.2327e-01,  5.4895e-01,  7.5123e-01]],\n",
       "       requires_grad=True)"
      ]
     },
     "execution_count": 46,
     "metadata": {},
     "output_type": "execute_result"
    }
   ],
   "source": [
    "#Weights of the 1st layer after Training\n",
    "model.fc1.weight"
   ]
  },
  {
   "cell_type": "code",
   "execution_count": 47,
   "id": "3cc7308e",
   "metadata": {},
   "outputs": [
    {
     "data": {
      "text/plain": [
       "Parameter containing:\n",
       "tensor([[-0.3735, -0.2374, -0.3740,  0.4095, -0.5845,  0.1502,  0.1479, -0.3284,\n",
       "         -0.5974, -0.0920],\n",
       "        [-0.1964, -0.0649,  0.2567, -0.6478, -0.3078,  0.1669, -0.1187, -0.0917,\n",
       "         -0.0107, -0.1172],\n",
       "        [ 1.0293, -0.1527, -0.2489,  0.1531, -1.0262,  0.0061,  0.1947, -0.4369,\n",
       "         -0.2452, -0.8822],\n",
       "        [-0.2479, -0.1389, -0.3414,  1.3714,  1.3197, -0.2076,  0.2786,  0.0156,\n",
       "         -0.5284,  0.8746],\n",
       "        [-0.6085, -0.1314,  0.3131, -0.2730, -0.1670,  0.0774,  0.1995, -0.0376,\n",
       "          0.2349, -0.6178],\n",
       "        [-0.6417, -0.2891,  0.1914,  0.5669,  0.8045, -0.2640,  0.2926, -0.1732,\n",
       "         -0.1778,  0.6930],\n",
       "        [-0.1648, -0.0813,  0.1878, -0.6046, -0.2592,  0.1846, -0.1531, -0.2462,\n",
       "         -0.2727, -0.2592],\n",
       "        [-0.4862, -0.1706,  0.1128, -0.1247, -0.3684, -0.0614, -0.1026, -0.2175,\n",
       "         -0.1341, -0.2027],\n",
       "        [-0.0564, -0.1321,  0.1664, -0.2808, -0.1334,  0.1240, -0.0247, -0.2652,\n",
       "          0.2779, -0.2432],\n",
       "        [-0.2348, -0.1168,  0.1818, -0.1673, -0.2726, -0.1380,  0.2882, -0.3927,\n",
       "         -0.3151, -0.2228]], requires_grad=True)"
      ]
     },
     "execution_count": 47,
     "metadata": {},
     "output_type": "execute_result"
    }
   ],
   "source": [
    "#Weights of the 2nd layer after Training\n",
    "model.fc2.weight"
   ]
  },
  {
   "cell_type": "code",
   "execution_count": 49,
   "id": "726c8544",
   "metadata": {},
   "outputs": [
    {
     "data": {
      "text/plain": [
       "Parameter containing:\n",
       "tensor([[ 5.3243e-02, -1.8836e-01,  1.0068e+00, -1.5113e+00, -3.1972e-01,\n",
       "         -6.7111e-02, -6.1354e-02, -1.7142e-02, -3.0745e-01, -3.8692e-01],\n",
       "        [-2.5509e-01,  6.9816e-02,  2.1967e-01,  1.6603e-01, -8.2209e-02,\n",
       "         -2.3896e-01,  2.3045e-01,  8.1019e-03, -1.1928e-01, -1.0865e-03],\n",
       "        [-6.1498e-01,  1.1367e-01, -1.7021e+00,  7.2510e-01,  3.3565e-01,\n",
       "          9.9066e-01,  2.2453e-01,  4.4939e-01, -2.0177e-01,  1.5269e-01]],\n",
       "       requires_grad=True)"
      ]
     },
     "execution_count": 49,
     "metadata": {},
     "output_type": "execute_result"
    }
   ],
   "source": [
    "#Weights of the 3rd layer after Training\n",
    "model.fc3.weight"
   ]
  },
  {
   "cell_type": "code",
   "execution_count": 62,
   "id": "545b2358",
   "metadata": {},
   "outputs": [],
   "source": [
    "train_pred=np.array(np.argmax(model.forward(x_train).detach(),axis=1).tolist())"
   ]
  },
  {
   "cell_type": "code",
   "execution_count": 68,
   "id": "54c1f126",
   "metadata": {},
   "outputs": [],
   "source": [
    "test_pred=np.array(np.argmax(model.forward(x_test).detach(),axis=1).tolist())"
   ]
  },
  {
   "cell_type": "code",
   "execution_count": 73,
   "id": "2044b657",
   "metadata": {},
   "outputs": [],
   "source": [
    "y_train_py=np.array(y_train.tolist())"
   ]
  },
  {
   "cell_type": "code",
   "execution_count": 82,
   "id": "d88d61df",
   "metadata": {},
   "outputs": [],
   "source": [
    "from sklearn.metrics import accuracy_score,confusion_matrix,classification_report"
   ]
  },
  {
   "cell_type": "code",
   "execution_count": 101,
   "id": "25628b64",
   "metadata": {},
   "outputs": [
    {
     "data": {
      "text/plain": [
       "0.9619047619047619"
      ]
     },
     "execution_count": 101,
     "metadata": {},
     "output_type": "execute_result"
    }
   ],
   "source": [
    "train_accuracy=accuracy_score(y_train_py,train_pred)\n",
    "train_accuracy"
   ]
  },
  {
   "cell_type": "code",
   "execution_count": 79,
   "id": "ead8939a",
   "metadata": {},
   "outputs": [],
   "source": [
    "y_test_py=np.array(y_test.tolist())"
   ]
  },
  {
   "cell_type": "code",
   "execution_count": 100,
   "id": "6f94f225",
   "metadata": {},
   "outputs": [
    {
     "data": {
      "text/plain": [
       "1.0"
      ]
     },
     "execution_count": 100,
     "metadata": {},
     "output_type": "execute_result"
    }
   ],
   "source": [
    "test_accuracy=accuracy_score(y_test_py,test_pred)\n",
    "test_accuracy"
   ]
  },
  {
   "cell_type": "code",
   "execution_count": 83,
   "id": "0bcf8523",
   "metadata": {},
   "outputs": [
    {
     "name": "stdout",
     "output_type": "stream",
     "text": [
      "              precision    recall  f1-score   support\n",
      "\n",
      "           0       1.00      1.00      1.00        34\n",
      "           1       0.95      0.95      0.95        39\n",
      "           2       0.94      0.94      0.94        32\n",
      "\n",
      "    accuracy                           0.96       105\n",
      "   macro avg       0.96      0.96      0.96       105\n",
      "weighted avg       0.96      0.96      0.96       105\n",
      "\n"
     ]
    }
   ],
   "source": [
    "print(classification_report(y_train_py,train_pred))"
   ]
  },
  {
   "cell_type": "code",
   "execution_count": 84,
   "id": "e1c507bc",
   "metadata": {},
   "outputs": [
    {
     "name": "stdout",
     "output_type": "stream",
     "text": [
      "              precision    recall  f1-score   support\n",
      "\n",
      "           0       1.00      1.00      1.00        16\n",
      "           1       1.00      1.00      1.00        11\n",
      "           2       1.00      1.00      1.00        18\n",
      "\n",
      "    accuracy                           1.00        45\n",
      "   macro avg       1.00      1.00      1.00        45\n",
      "weighted avg       1.00      1.00      1.00        45\n",
      "\n"
     ]
    }
   ],
   "source": [
    "print(classification_report(y_test_py,test_pred))"
   ]
  },
  {
   "cell_type": "code",
   "execution_count": 86,
   "id": "0179932f",
   "metadata": {},
   "outputs": [],
   "source": [
    "f1_train=1\n",
    "f2_train=1"
   ]
  },
  {
   "cell_type": "code",
   "execution_count": 87,
   "id": "033feabb",
   "metadata": {},
   "outputs": [],
   "source": [
    "import pandas as pd"
   ]
  },
  {
   "cell_type": "code",
   "execution_count": 91,
   "id": "daf0d83d",
   "metadata": {},
   "outputs": [],
   "source": [
    "result=pd.DataFrame({'Parameter':['Train_accuracy','Test_Accuracy','Train_F1_Score','Test_F1_Score']})"
   ]
  },
  {
   "cell_type": "code",
   "execution_count": 96,
   "id": "ec4ba34a",
   "metadata": {},
   "outputs": [],
   "source": [
    "l=[round(train_accuracy,4),test_accuracy,1,1]"
   ]
  },
  {
   "cell_type": "code",
   "execution_count": 97,
   "id": "043af29f",
   "metadata": {},
   "outputs": [
    {
     "data": {
      "text/plain": [
       "[0.9619, 1.0, 1, 1]"
      ]
     },
     "execution_count": 97,
     "metadata": {},
     "output_type": "execute_result"
    }
   ],
   "source": [
    "l"
   ]
  },
  {
   "cell_type": "code",
   "execution_count": 98,
   "id": "08f6ba86",
   "metadata": {},
   "outputs": [],
   "source": [
    "result['Values']=np.array(l)"
   ]
  },
  {
   "cell_type": "markdown",
   "id": "5d1e3820",
   "metadata": {},
   "source": [
    "# Final Scores"
   ]
  },
  {
   "cell_type": "code",
   "execution_count": 99,
   "id": "75c1d245",
   "metadata": {},
   "outputs": [
    {
     "data": {
      "text/html": [
       "<div>\n",
       "<style scoped>\n",
       "    .dataframe tbody tr th:only-of-type {\n",
       "        vertical-align: middle;\n",
       "    }\n",
       "\n",
       "    .dataframe tbody tr th {\n",
       "        vertical-align: top;\n",
       "    }\n",
       "\n",
       "    .dataframe thead th {\n",
       "        text-align: right;\n",
       "    }\n",
       "</style>\n",
       "<table border=\"1\" class=\"dataframe\">\n",
       "  <thead>\n",
       "    <tr style=\"text-align: right;\">\n",
       "      <th></th>\n",
       "      <th>Parameter</th>\n",
       "      <th>Values</th>\n",
       "    </tr>\n",
       "  </thead>\n",
       "  <tbody>\n",
       "    <tr>\n",
       "      <th>0</th>\n",
       "      <td>Train_accuracy</td>\n",
       "      <td>0.9619</td>\n",
       "    </tr>\n",
       "    <tr>\n",
       "      <th>1</th>\n",
       "      <td>Test_Accuracy</td>\n",
       "      <td>1.0000</td>\n",
       "    </tr>\n",
       "    <tr>\n",
       "      <th>2</th>\n",
       "      <td>Train_F1_Score</td>\n",
       "      <td>1.0000</td>\n",
       "    </tr>\n",
       "    <tr>\n",
       "      <th>3</th>\n",
       "      <td>Test_F1_Score</td>\n",
       "      <td>1.0000</td>\n",
       "    </tr>\n",
       "  </tbody>\n",
       "</table>\n",
       "</div>"
      ],
      "text/plain": [
       "        Parameter  Values\n",
       "0  Train_accuracy  0.9619\n",
       "1   Test_Accuracy  1.0000\n",
       "2  Train_F1_Score  1.0000\n",
       "3   Test_F1_Score  1.0000"
      ]
     },
     "execution_count": 99,
     "metadata": {},
     "output_type": "execute_result"
    }
   ],
   "source": [
    "result"
   ]
  },
  {
   "cell_type": "code",
   "execution_count": null,
   "id": "8338ae39",
   "metadata": {},
   "outputs": [],
   "source": []
  }
 ],
 "metadata": {
  "kernelspec": {
   "display_name": "Python 3",
   "language": "python",
   "name": "python3"
  },
  "language_info": {
   "codemirror_mode": {
    "name": "ipython",
    "version": 3
   },
   "file_extension": ".py",
   "mimetype": "text/x-python",
   "name": "python",
   "nbconvert_exporter": "python",
   "pygments_lexer": "ipython3",
   "version": "3.7.10"
  }
 },
 "nbformat": 4,
 "nbformat_minor": 5
}
